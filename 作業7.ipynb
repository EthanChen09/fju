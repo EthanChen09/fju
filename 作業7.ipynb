{
 "cells": [
  {
   "cell_type": "code",
   "execution_count": 14,
   "id": "7f790925-353e-4d59-a595-69c2a13841e7",
   "metadata": {},
   "outputs": [],
   "source": [
    "def fibonacci(n):\n",
    "    if n<=2:\n",
    "        print(\"please enter a number which is greater than 2!\")\n",
    "    else:\n",
    "        fib=[1,1]\n",
    "        ratio=[1]\n",
    "        for i in range(2,n):\n",
    "            fib_new = fib[i-1]+fib[i-2]\n",
    "            fib.append(fib_new)\n",
    "            ratio_new=fib[i-1]/fib_new\n",
    "            ratio.append(ratio_new)\n",
    "        print(fib)\n",
    "        print(ratio)"
   ]
  },
  {
   "cell_type": "code",
   "execution_count": 16,
   "id": "455abe0c-27f5-4084-9fe4-51f2e56c6c58",
   "metadata": {},
   "outputs": [
    {
     "name": "stdout",
     "output_type": "stream",
     "text": [
      "please enter a number which is greater than 2!\n"
     ]
    }
   ],
   "source": [
    "fibonacci(2)"
   ]
  },
  {
   "cell_type": "code",
   "execution_count": 18,
   "id": "4f387841-8576-40fd-a85e-7a27f4d3ec24",
   "metadata": {},
   "outputs": [
    {
     "name": "stdout",
     "output_type": "stream",
     "text": [
      "[1, 1, 2, 3, 5, 8, 13]\n",
      "[1, 0.5, 0.6666666666666666, 0.6, 0.625, 0.6153846153846154]\n"
     ]
    }
   ],
   "source": [
    "fibonacci(7)"
   ]
  },
  {
   "cell_type": "code",
   "execution_count": 20,
   "id": "7bb502ea-3310-4221-9dec-777c93cd393f",
   "metadata": {},
   "outputs": [
    {
     "name": "stdout",
     "output_type": "stream",
     "text": [
      "[1, 1, 2, 3, 5, 8, 13, 21, 34, 55]\n",
      "[1, 0.5, 0.6666666666666666, 0.6, 0.625, 0.6153846153846154, 0.6190476190476191, 0.6176470588235294, 0.6181818181818182]\n"
     ]
    }
   ],
   "source": [
    "fibonacci(10)"
   ]
  },
  {
   "cell_type": "code",
   "execution_count": null,
   "id": "eda7551e-0a82-4952-8ff8-7e44ed1d22e2",
   "metadata": {},
   "outputs": [],
   "source": []
  }
 ],
 "metadata": {
  "kernelspec": {
   "display_name": "Python [conda env:base] *",
   "language": "python",
   "name": "conda-base-py"
  },
  "language_info": {
   "codemirror_mode": {
    "name": "ipython",
    "version": 3
   },
   "file_extension": ".py",
   "mimetype": "text/x-python",
   "name": "python",
   "nbconvert_exporter": "python",
   "pygments_lexer": "ipython3",
   "version": "3.12.7"
  }
 },
 "nbformat": 4,
 "nbformat_minor": 5
}
